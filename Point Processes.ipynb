{
 "metadata": {
  "name": "Point Processes"
 }, 
 "name": "Point Processes", 
 "nbformat": 2, 
 "worksheets": [
  {
   "cells": [
    {
     "cell_type": "markdown", 
     "source": "<h3>Point Processes: Poisson and Gamma</h3>\n<p>\n    This notebook is about the simulation and analysis of point processes. A point\n    process is a probablistic construct. It's a stochastic process that is characterized\n    only by it's event times.\n    \n    \n</p>"
    }
   ]
  }
 ]
}